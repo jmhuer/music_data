{
 "cells": [
  {
   "cell_type": "code",
   "execution_count": 15,
   "metadata": {},
   "outputs": [
    {
     "data": {
      "image/png": "[encoded data removed]",
      "text/plain": [
       "<Figure size 640x480 with 1 Axes>"
      ]
     },
     "metadata": {},
     "output_type": "display_data"
    }
   ],
   "source": [
    "import torch\n",
    "from torch_geometric.data import Data\n",
    "import matplotlib.pyplot as plt\n",
    "import networkx as nx\n",
    "import torch_geometric.utils\n",
    "\n",
    "# Function to visualize the graph\n",
    "def visualize_graph(edge_index, node_features, time_step):\n",
    "    num_nodes = node_features.size(0)  # Determine the number of nodes from features\n",
    "    G = nx.Graph()\n",
    "    G.add_edges_from(edge_index.t().numpy())\n",
    "    pos = nx.circular_layout(G)  # Use circular layout for clarity\n",
    "    \n",
    "    # Determine node colors based on features ('on' = green, others = red)\n",
    "    node_colors = ['green' if feature.item() == 1 else 'red' for feature in node_features[:, 0]]\n",
    "    \n",
    "    nx.draw(G, pos, with_labels=True, node_color=node_colors, edge_color='black', width=2, node_size=600,\n",
    "            labels={i: f\"{chr(65+i)}\" for i in G.nodes()})\n",
    "    plt.title(f\"Time Step: {time_step}\")\n",
    "    plt.axis('off')\n",
    "    plt.show()\n",
    "\n",
    "# Define the edges to form a circle with 5 nodes    \n",
    "edge_index = torch.tensor([[0, 1, 2, 3, 4, 0], \\\n",
    "                           [1, 2, 3, 4, 0, 1]], dtype=torch.long)\n",
    "\n",
    "# Define node features for each time step to simulate changes\n",
    "# In this case, let's just cycle through nodes being 'on' (1) with others being 'off' (0)\n",
    "node_features_over_time = [\n",
    "    torch.tensor([[1], [0], [0], [0], [0]], dtype=torch.float),  # Node A 'on'\n",
    "    torch.tensor([[0], [1], [0], [0], [0]], dtype=torch.float),  # Node B 'on'\n",
    "    torch.tensor([[0], [0], [1], [0], [0]], dtype=torch.float),  # Node C 'on'\n",
    "    torch.tensor([[0], [0], [0], [1], [0]], dtype=torch.float),  # Node D 'on'\n",
    "    torch.tensor([[0], [0], [0], [0], [1]], dtype=torch.float),  # Node E 'on'\n",
    "]\n",
    "\n",
    "data = Data(x=node_features_over_time, edge_index=edge_index)\n",
    "\n",
    "g = torch_geometric.utils.to_networkx(data,to_undirected=True)\n",
    "nx.draw(g)\n"
   ]
  },
  {
   "cell_type": "markdown",
   "metadata": {},
   "source": [
    "##I thik below is fror temporal edges non statig graphs "
   ]
  },
  {
   "cell_type": "markdown",
   "metadata": {},
   "source": [
    "## I thik below is fror temporal edges non statig graphs \n"
   ]
  },
  {
   "cell_type": "markdown",
   "metadata": {},
   "source": []
  },
  {
   "cell_type": "code",
   "execution_count": 2,
   "metadata": {},
   "outputs": [
    {
     "name": "stdout",
     "output_type": "stream",
     "text": [
      "Number of events: 8\n",
      "Number of nodes: 4\n",
      "Edge index: \n",
      "tensor([[0, 1, 1, 2, 2, 3, 3, 0],\n",
      "        [1, 0, 2, 1, 3, 2, 0, 3]])\n",
      "Timestamps: \n",
      "tensor([1., 2., 3., 4., 5., 6., 7., 8.])\n",
      "Messages: \n",
      "tensor([[1.],\n",
      "        [1.],\n",
      "        [0.],\n",
      "        [0.],\n",
      "        [1.],\n",
      "        [1.],\n",
      "        [0.],\n",
      "        [0.]])\n"
     ]
    }
   ],
   "source": [
    "import torch\n",
    "from torch_geometric.data import TemporalData\n",
    "\n",
    "# Example temporal edges:\n",
    "# src and dst denote the source and destination nodes of each interaction\n",
    "# t represents the timestamp of each interaction\n",
    "# msg (optional) could represent some information or feature associated with each interaction\n",
    "src = torch.tensor([0, 1, 1, 2, 2, 3, 3, 0])\n",
    "dst = torch.tensor([1, 0, 2, 1, 3, 2, 0, 3])\n",
    "t = torch.tensor([1, 2, 3, 4, 5, 6, 7, 8], dtype=torch.float)  # Example timestamps\n",
    "msg = torch.tensor([[1], [1], [0], [0], [1], [1], [0], [0]], dtype=torch.float)  # Example messages\n",
    "\n",
    "# Create TemporalData object\n",
    "temporal_data = TemporalData(src=src, dst=dst, t=t, msg=msg)\n",
    "\n",
    "# Access properties\n",
    "print(f\"Number of events: {temporal_data.num_events}\")\n",
    "print(f\"Number of nodes: {temporal_data.num_nodes}\")\n",
    "print(f\"Edge index: \\n{temporal_data.edge_index}\")\n",
    "print(f\"Timestamps: \\n{temporal_data.t}\")\n",
    "print(f\"Messages: \\n{temporal_data.msg}\")\n"
   ]
  }
 ],
 "metadata": {
  "kernelspec": {
   "display_name": "Python 3.9.19 ('pygeometric')",
   "language": "python",
   "name": "python3"
  },
  "language_info": {
   "codemirror_mode": {
    "name": "ipython",
    "version": 3
   },
   "file_extension": ".py",
   "mimetype": "text/x-python",
   "name": "python",
   "nbconvert_exporter": "python",
   "pygments_lexer": "ipython3",
   "version": "3.9.19"
  },
  "orig_nbformat": 4,
  "vscode": {
   "interpreter": {
    "hash": "407704b926781512ef19454543ee0dba907fc37546ecedeacf0749956eecfddc"
   }
  }
 },
 "nbformat": 4,
 "nbformat_minor": 2
}
